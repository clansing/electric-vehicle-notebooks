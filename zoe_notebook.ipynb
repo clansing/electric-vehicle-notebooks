{
 "cells": [
  {
   "cell_type": "code",
   "execution_count": null,
   "id": "3ac71432-1762-4db3-9d74-80e7351ce902",
   "metadata": {},
   "outputs": [],
   "source": [
    "zoe"
   ]
  },
  {
   "cell_type": "code",
   "execution_count": null,
   "id": "acb039e1-8d7e-41d3-ad66-d355d18410a4",
   "metadata": {},
   "outputs": [],
   "source": [
    "another PR"
   ]
  },
  {
   "cell_type": "code",
   "execution_count": null,
   "id": "430ca9ce-8d56-4949-b64c-dd7ba772f71b",
   "metadata": {},
   "outputs": [],
   "source": [
    "another change"
   ]
  },
  {
   "cell_type": "code",
   "execution_count": null,
   "id": "ce4fcadc-3c3e-45eb-a270-075a76867f14",
   "metadata": {},
   "outputs": [],
   "source": [
    "sdfsdf"
   ]
  }
 ],
 "metadata": {
  "kernelspec": {
   "display_name": "Python 3 (ipykernel)",
   "language": "python",
   "name": "python3"
  },
  "language_info": {
   "codemirror_mode": {
    "name": "ipython",
    "version": 3
   },
   "file_extension": ".py",
   "mimetype": "text/x-python",
   "name": "python",
   "nbconvert_exporter": "python",
   "pygments_lexer": "ipython3",
   "version": "3.11.8"
  }
 },
 "nbformat": 4,
 "nbformat_minor": 5
}
